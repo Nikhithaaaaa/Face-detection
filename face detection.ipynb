{
 "cells": [
  {
   "cell_type": "code",
   "execution_count": null,
   "id": "e3e101dd-5eff-4247-a8fc-1cc794c7f785",
   "metadata": {},
   "outputs": [],
   "source": [
    "import imutils\n",
    "import cv2\n",
    "import numpy as np\n",
    "import matplotlib.pyplot as plt\n",
    "%matplotlib inline"
   ]
  },
  {
   "cell_type": "code",
   "execution_count": null,
   "id": "765b01af-1b79-4ba0-85b2-dc6a2e5a0d0b",
   "metadata": {},
   "outputs": [],
   "source": [
    "import io\n",
    "%cd \"C:\\Users\\Hp\\Downloads\""
   ]
  },
  {
   "cell_type": "code",
   "execution_count": null,
   "id": "e83822ab-ff39-4dd6-93b3-a41080067573",
   "metadata": {},
   "outputs": [],
   "source": [
    "img=cv2.imread(\"image.jpeg\")"
   ]
  },
  {
   "cell_type": "code",
   "execution_count": null,
   "id": "226e7f6d-2fd0-4c79-b0ff-668350bc411a",
   "metadata": {},
   "outputs": [],
   "source": [
    "img.shape"
   ]
  },
  {
   "cell_type": "code",
   "execution_count": null,
   "id": "afcd0029-6c12-4c54-ae31-087d175c8df0",
   "metadata": {},
   "outputs": [],
   "source": [
    "plt.imshow(img)"
   ]
  },
  {
   "cell_type": "code",
   "execution_count": null,
   "id": "92ff6f57-4511-42e9-b2e7-cb50b5645d18",
   "metadata": {},
   "outputs": [],
   "source": [
    "window_name=\"img\"\n",
    "cv2.imshow(window_name,img)\n",
    "cv2.waitKey(30)"
   ]
  },
  {
   "cell_type": "code",
   "execution_count": null,
   "id": "277f7585-b9c1-4f93-be80-4350d2d4d5c2",
   "metadata": {},
   "outputs": [],
   "source": [
    "cv2.destroyAllWindows() # close all windows"
   ]
  },
  {
   "cell_type": "code",
   "execution_count": null,
   "id": "cae0ed6b-21b8-4cd4-9336-a2ee4dbc4612",
   "metadata": {},
   "outputs": [],
   "source": [
    "# resizing of images\n",
    "# inter_area - shrinking image\n",
    "# inter_cubic - slow in shrinking\n",
    "# inter_linear - zooming is done (default method)"
   ]
  },
  {
   "cell_type": "code",
   "execution_count": null,
   "id": "351db8e3-f822-47e1-bde0-8584415cabc8",
   "metadata": {},
   "outputs": [],
   "source": [
    "half=cv2.resize(img,(0,0),fx=0.1,fy=0.1)"
   ]
  },
  {
   "cell_type": "code",
   "execution_count": null,
   "id": "f09dbebe-4102-4a17-b059-263ced4e9ede",
   "metadata": {},
   "outputs": [],
   "source": [
    "bigger=cv2.resize(img,(1050,1610))"
   ]
  },
  {
   "cell_type": "code",
   "execution_count": null,
   "id": "f7d4e3b1-305e-4a5b-ba85-1c003b6ad63f",
   "metadata": {},
   "outputs": [],
   "source": [
    "stretch=cv2.resize(img,(780,540),interpolation=cv2.INTER_LINEAR)"
   ]
  },
  {
   "cell_type": "code",
   "execution_count": null,
   "id": "d19cd6ef-4f91-4848-b87a-8fab33b3856d",
   "metadata": {},
   "outputs": [],
   "source": [
    "titles=[\"original\",\"half\",\"bigger\",\"stretch\"]\n",
    "images=[img,half,bigger,stretch]\n",
    "\n",
    "for i in range(4):\n",
    "    plt.subplot(2,2,i+1)\n",
    "    plt.title(titles[i])\n",
    "    plt.imshow(images[i])\n",
    "plt.show()"
   ]
  },
  {
   "cell_type": "code",
   "execution_count": null,
   "id": "b29b01de-94f2-4b4c-abd7-1294aad5968d",
   "metadata": {},
   "outputs": [],
   "source": [
    "# blurring of image\n",
    "# gaussian blur - using gausian kernel\n",
    "# median blur - non linear blurring technique used to remove noise\n",
    "# bilateral blur - non linear edge preserving and noise reducing smoothing technique"
   ]
  },
  {
   "cell_type": "code",
   "execution_count": null,
   "id": "75d65495-d1ff-42ac-abc8-00e5f555c7db",
   "metadata": {},
   "outputs": [],
   "source": [
    "gaussian=cv2.GaussianBlur(img,(7,7),0)\n",
    "cv2.imshow(\"Gaussian Blur\",gaussian)\n",
    "cv2.waitKey(1000)"
   ]
  },
  {
   "cell_type": "code",
   "execution_count": null,
   "id": "fa2b03f9-8810-421c-a1e8-74f7a7c268f4",
   "metadata": {},
   "outputs": [],
   "source": [
    "median=cv2.medianBlur(img,5)\n",
    "cv2.imshow(\"Median Blur\",median)\n",
    "cv2.waitKey(1000)"
   ]
  },
  {
   "cell_type": "code",
   "execution_count": null,
   "id": "1befb0a4-3a42-4c10-ac8e-8b344def4feb",
   "metadata": {},
   "outputs": [],
   "source": [
    "bilateral=cv2.bilateralFilter(img,9,75,75)\n",
    "cv2.imshow(\"Bilateral Blur\",bilateral)\n",
    "cv2.waitKey(1000)"
   ]
  },
  {
   "cell_type": "code",
   "execution_count": null,
   "id": "98c0cee8-a945-468a-b99c-b3a787a9e994",
   "metadata": {},
   "outputs": [],
   "source": [
    "cv2.destroyAllWindows()"
   ]
  },
  {
   "cell_type": "code",
   "execution_count": null,
   "id": "faddf16a-0706-48d3-bbde-e923349ee5f0",
   "metadata": {},
   "outputs": [],
   "source": [
    "# rotation of image\n",
    "center=(img.shape[1]//2,img.shape[0]//2)\n",
    "angle=45\n",
    "scale=1"
   ]
  },
  {
   "cell_type": "code",
   "execution_count": null,
   "id": "96e3e979-d6b4-4ac7-a675-0a5d6a4b8443",
   "metadata": {},
   "outputs": [],
   "source": [
    "rotate_matrix=cv2.getRotationMatrix2D(center,angle,scale)"
   ]
  },
  {
   "cell_type": "code",
   "execution_count": null,
   "id": "56ad35cf-29af-4465-af7c-df4c4e39cc03",
   "metadata": {},
   "outputs": [],
   "source": [
    "rotate_img=cv2.warpAffine(img,rotate_matrix,(img.shape[1],img.shape[0]))"
   ]
  },
  {
   "cell_type": "code",
   "execution_count": null,
   "id": "c682b8ed-9314-4112-b2b5-1b12e78db70c",
   "metadata": {},
   "outputs": [],
   "source": [
    "plt.imshow(rotate_img)"
   ]
  },
  {
   "cell_type": "code",
   "execution_count": null,
   "id": "0631c392-0037-4cbd-b604-72d15023d6c8",
   "metadata": {},
   "outputs": [],
   "source": [
    "# edge detection - sharp edges of image are very important in object detection\n",
    "# most popular algorithms is canny edge detection\n",
    "# steps in canny edge detection are :\n",
    "# 1) gaussian blurring/smoothing - gaussian kernel blur\n",
    "# 2) gradient calculation - gradient of image is calculated using sobel filter\n",
    "# 3) non maximum supression - removes or irrelevant edges\n",
    "# 4) hysteresis thresholding - detects strong and weak edges from gradient filter"
   ]
  },
  {
   "cell_type": "code",
   "execution_count": null,
   "id": "468b9792-4617-414a-a78f-ee247795c0a2",
   "metadata": {},
   "outputs": [],
   "source": [
    "canny_edge=cv2.Canny(img,threshold1=50,threshold2=100)"
   ]
  },
  {
   "cell_type": "code",
   "execution_count": null,
   "id": "af399ce6-025f-4dc0-b610-5a80eca87688",
   "metadata": {},
   "outputs": [],
   "source": [
    "plt.imshow(canny_edge)"
   ]
  },
  {
   "cell_type": "code",
   "execution_count": null,
   "id": "0eb68ab8-aec6-459a-9d1f-da1c298a742a",
   "metadata": {},
   "outputs": [],
   "source": [
    "# accessing specific regions of image \n",
    "roi=img[60:160,320:420]\n",
    "cv2.imshow(\"ROI\",roi)\n",
    "cv2.waitKey(1000)"
   ]
  },
  {
   "cell_type": "code",
   "execution_count": null,
   "id": "0e5d6412-ec40-45ff-a6e7-86dd70711135",
   "metadata": {},
   "outputs": [],
   "source": [
    "cv2.destroyAllWindows()"
   ]
  },
  {
   "cell_type": "code",
   "execution_count": null,
   "id": "5a3922b5-5600-4797-9a43-053d7c422bd7",
   "metadata": {},
   "outputs": [],
   "source": [
    "img3=img.copy()"
   ]
  },
  {
   "cell_type": "code",
   "execution_count": null,
   "id": "4b5a4d76-1565-4b86-ae62-13d4a5059bb8",
   "metadata": {},
   "outputs": [],
   "source": [
    "cv2.rectangle(img3,(320,60),(420,160),(0,200.255),4)\n",
    "cv2.imshow(\"Rectangle\",img3)\n",
    "cv2.waitKey(1000)"
   ]
  },
  {
   "cell_type": "code",
   "execution_count": null,
   "id": "69d2a86e-cb6a-4f9c-9765-ef0f9fbe3c8b",
   "metadata": {},
   "outputs": [],
   "source": [
    "cv2.destroyAllWindows()"
   ]
  },
  {
   "cell_type": "code",
   "execution_count": null,
   "id": "b6bac8fd-46dc-441c-8a04-60ab8d8f62c9",
   "metadata": {},
   "outputs": [],
   "source": [
    "# object detection is a computer vision task that identifies objects in images. detecting and localizing within the image.\n",
    "# popular object detection algorithms are :\n",
    "# haar cascade classifier\n",
    "# HOG detector (histogram of oriented gradients)\n",
    "# deep neural network based detector"
   ]
  },
  {
   "cell_type": "code",
   "execution_count": null,
   "id": "f022837e-b045-407f-a31d-f2263ed3f305",
   "metadata": {},
   "outputs": [],
   "source": [
    "# Haar cascade classifier is a machine learning based approach where positive and negative images are used to train classifier.\n",
    "# positive images - images that contain object that needs to be detected\n",
    "\n",
    "# haar cascade classifier has many predefined identifiers stored un .xml format"
   ]
  },
  {
   "cell_type": "code",
   "execution_count": null,
   "id": "763368f5-cb94-4e6b-b25b-56dd50fc8b8c",
   "metadata": {},
   "outputs": [],
   "source": [
    "stopssigns=cv2.imread(\"imagee.jpeg\")"
   ]
  },
  {
   "cell_type": "code",
   "execution_count": null,
   "id": "373e48d3-4324-470c-8308-6c052ce9d903",
   "metadata": {},
   "outputs": [],
   "source": [
    "plt.imshow(stopssigns)"
   ]
  },
  {
   "cell_type": "code",
   "execution_count": null,
   "id": "f109782b-34e5-4c68-a90a-74304c764def",
   "metadata": {},
   "outputs": [],
   "source": [
    "stopssigns_rgb=cv2.cvtColor(stopssigns,cv2.COLOR_BGR2RGB)"
   ]
  },
  {
   "cell_type": "code",
   "execution_count": null,
   "id": "42d5e848-0016-40ed-92f4-7d57c0391c04",
   "metadata": {},
   "outputs": [],
   "source": [
    "plt.imshow(stopssigns_rgb)"
   ]
  },
  {
   "cell_type": "code",
   "execution_count": null,
   "id": "b0db79f1-14e8-4c84-adb3-b1e98f2329dd",
   "metadata": {},
   "outputs": [],
   "source": [
    "stop_data=cv2.CascadeClassifier(r\"C:\\Users\\Hp\\anaconda3\\Lib\\site-packages\\cv2\\stop_sign_classifier_2.xml\")"
   ]
  },
  {
   "cell_type": "code",
   "execution_count": null,
   "id": "ab699cc1-bdc5-49c9-bf5f-210ebf998944",
   "metadata": {},
   "outputs": [],
   "source": [
    "found=stop_data.detectMultiScale(stopssigns_rgb,minSize=(30,30))\n",
    "amount_found=len(found)\n",
    "\n",
    "if amount_found!=0:\n",
    "    for(x,y,w,h) in found:\n",
    "        cv2.rectangle(stopssigns_rgb,(x,y),(x+h,y+w),(0,0,255),5)\n",
    "plt.subplot(1,1,1)\n",
    "plt.imshow(stopssigns_rgb)\n",
    "plt.show()"
   ]
  },
  {
   "cell_type": "code",
   "execution_count": null,
   "id": "af09a169-73f7-42c9-98b4-1e3c7ddf3950",
   "metadata": {},
   "outputs": [],
   "source": [
    "cv2.destroyAllWindows()"
   ]
  },
  {
   "cell_type": "code",
   "execution_count": null,
   "id": "d81405ab-bbd9-424f-a43b-afdbb6a8252d",
   "metadata": {},
   "outputs": [],
   "source": []
  },
  {
   "cell_type": "code",
   "execution_count": null,
   "id": "770da3e6-9407-4e41-b1c4-38aa986aca98",
   "metadata": {},
   "outputs": [],
   "source": []
  },
  {
   "cell_type": "code",
   "execution_count": null,
   "id": "1efe39d8-a7c2-459c-af27-e13732211d39",
   "metadata": {},
   "outputs": [],
   "source": []
  },
  {
   "cell_type": "code",
   "execution_count": null,
   "id": "827b8f86-ab8b-4977-b218-ecb217a5fe15",
   "metadata": {},
   "outputs": [],
   "source": []
  },
  {
   "cell_type": "code",
   "execution_count": null,
   "id": "46f85371-430d-4aa6-8824-62188064bc43",
   "metadata": {},
   "outputs": [],
   "source": []
  },
  {
   "cell_type": "code",
   "execution_count": null,
   "id": "0d4d45f3-779b-4d73-acb2-d72bd4a5f987",
   "metadata": {},
   "outputs": [],
   "source": []
  }
 ],
 "metadata": {
  "kernelspec": {
   "display_name": "Python 3 (ipykernel)",
   "language": "python",
   "name": "python3"
  },
  "language_info": {
   "codemirror_mode": {
    "name": "ipython",
    "version": 3
   },
   "file_extension": ".py",
   "mimetype": "text/x-python",
   "name": "python",
   "nbconvert_exporter": "python",
   "pygments_lexer": "ipython3",
   "version": "3.11.7"
  }
 },
 "nbformat": 4,
 "nbformat_minor": 5
}
